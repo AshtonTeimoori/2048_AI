{
 "cells": [
  {
   "cell_type": "code",
   "execution_count": 11,
   "metadata": {},
   "outputs": [],
   "source": [
    "import torch\n",
    "import torch.nn as nn\n",
    "import torch.optim as optim\n",
    "import numpy as np\n",
    "import math\n",
    "import random\n",
    "import matplotlib.pyplot as plt\n",
    "from collections import namedtuple, deque\n",
    "from src.Runner2048 import Game\n",
    "from model_class import DQN\n"
   ]
  },
  {
   "cell_type": "code",
   "execution_count": 12,
   "metadata": {},
   "outputs": [],
   "source": [
    "\n",
    "# This file will be used to run the agent on the 2048 game\n",
    "# The agent will be using the trained model to play the game\n",
    "\n",
    "\n",
    "\n",
    "class ConvBlock(nn.Module):\n",
    "    def __init__(self, in_channels, hidden_channels, out_channels):\n",
    "        super(ConvBlock, self).__init__()\n",
    "        self.conv_vert = nn.Sequential(\n",
    "            nn.Conv2d(in_channels, hidden_channels, kernel_size=(1,2), stride=1),\n",
    "            nn.ReLU()\n",
    "            )\n",
    "        self.conv_horz = nn.Sequential(\n",
    "            nn.Conv2d(in_channels, hidden_channels, kernel_size=(2,1), stride=1),\n",
    "            nn.ReLU()\n",
    "            )\n",
    "        self.conv_vert2 = nn.Sequential(\n",
    "            nn.Conv2d(hidden_channels, out_channels, kernel_size=(1,2), stride=1),\n",
    "            nn.Flatten(),\n",
    "            nn.ReLU()\n",
    "            )\n",
    "        self.conv_horz2 = nn.Sequential(\n",
    "            nn.Conv2d(hidden_channels, out_channels, kernel_size=(2,1), stride=1),\n",
    "            nn.Flatten(),\n",
    "            nn.ReLU()\n",
    "            )\n",
    "    \n",
    "    def forward(self, x):\n",
    "        x_vert = self.conv_vert(x)\n",
    "        x_horz = self.conv_horz(x)\n",
    "        x_vert2vert = self.conv_vert2(x_vert)\n",
    "        x_vert2horz = self.conv_horz2(x_vert)\n",
    "        x_horz2vert = self.conv_vert2(x_horz)\n",
    "        x_horz2horz = self.conv_horz2(x_horz)\n",
    "        return torch.cat([x_vert2vert, x_vert2horz, x_horz2vert, x_horz2horz], dim=1)\n",
    "\n",
    "class NONSQUARE(nn.Module): # \n",
    "    def __init__(self, HIDDEN_LAYER_1, HIDDEN_LAYER_2, OUTPUT_LAYER):\n",
    "        super(NONSQUARE, self).__init__()\n",
    "        self.network = nn.Sequential(\n",
    "            ConvBlock(16, 256, 512),\n",
    "            nn.ReLU(),\n",
    "            nn.Flatten(),   # Unnecessary?\n",
    "            nn.Linear(17408, HIDDEN_LAYER_1),\n",
    "            nn.ReLU(),\n",
    "            nn.Linear(HIDDEN_LAYER_1, HIDDEN_LAYER_2),\n",
    "            nn.ReLU(),\n",
    "            nn.Linear(HIDDEN_LAYER_2, OUTPUT_LAYER)\n",
    "            )\n",
    "        \n",
    "    def forward(self, x):\n",
    "        return self.network(x)"
   ]
  },
  {
   "cell_type": "code",
   "execution_count": 13,
   "metadata": {},
   "outputs": [],
   "source": [
    "def encode_state(board):\n",
    "  board_flat = torch.LongTensor(board)\n",
    "  board_flat = nn.functional.one_hot(board_flat, num_classes=16).float().flatten()\n",
    "  board_flat = board_flat.reshape(1, 4, 4, 16).permute(0, 3, 1, 2)\n",
    "  return board_flat"
   ]
  },
  {
   "cell_type": "code",
   "execution_count": 14,
   "metadata": {},
   "outputs": [
    {
     "ename": "RuntimeError",
     "evalue": "Error(s) in loading state_dict for NONSQUARE:\n\tMissing key(s) in state_dict: \"network.0.conv_vert.0.weight\", \"network.0.conv_vert.0.bias\", \"network.0.conv_horz.0.weight\", \"network.0.conv_horz.0.bias\". \n\tUnexpected key(s) in state_dict: \"network.0.conv_vert2x.0.weight\", \"network.0.conv_vert2x.0.bias\", \"network.0.conv_horz2x.0.weight\", \"network.0.conv_horz2x.0.bias\", \"network.0.conv_vert3.0.weight\", \"network.0.conv_vert3.0.bias\", \"network.0.conv_horz3.0.weight\", \"network.0.conv_horz3.0.bias\", \"network.0.conv_vert3x.0.weight\", \"network.0.conv_vert3x.0.bias\", \"network.0.conv_horz3x.0.weight\", \"network.0.conv_horz3x.0.bias\", \"network.0.conv_vert4.0.weight\", \"network.0.conv_vert4.0.bias\", \"network.0.conv_horz4.0.weight\", \"network.0.conv_horz4.0.bias\", \"network.0.conv_vert4x.0.weight\", \"network.0.conv_vert4x.0.bias\", \"network.0.conv_horz4x.0.weight\", \"network.0.conv_horz4x.0.bias\". \n\tsize mismatch for network.0.conv_vert2.0.weight: copying a param with shape torch.Size([128, 16, 1, 2]) from checkpoint, the shape in current model is torch.Size([512, 256, 1, 2]).\n\tsize mismatch for network.0.conv_vert2.0.bias: copying a param with shape torch.Size([128]) from checkpoint, the shape in current model is torch.Size([512]).\n\tsize mismatch for network.0.conv_horz2.0.weight: copying a param with shape torch.Size([128, 16, 2, 1]) from checkpoint, the shape in current model is torch.Size([512, 256, 2, 1]).\n\tsize mismatch for network.0.conv_horz2.0.bias: copying a param with shape torch.Size([128]) from checkpoint, the shape in current model is torch.Size([512]).\n\tsize mismatch for network.3.weight: copying a param with shape torch.Size([2048, 33792]) from checkpoint, the shape in current model is torch.Size([2048, 17408]).",
     "output_type": "error",
     "traceback": [
      "\u001b[1;31m---------------------------------------------------------------------------\u001b[0m",
      "\u001b[1;31mRuntimeError\u001b[0m                              Traceback (most recent call last)",
      "Cell \u001b[1;32mIn[14], line 8\u001b[0m\n\u001b[0;32m      4\u001b[0m output_size \u001b[38;5;241m=\u001b[39m \u001b[38;5;241m4\u001b[39m  \u001b[38;5;66;03m# Assuming there are 4 possible actions (up, down, left, right)\u001b[39;00m\n\u001b[0;32m      6\u001b[0m model \u001b[38;5;241m=\u001b[39m NONSQUARE(\u001b[38;5;241m2048\u001b[39m, \u001b[38;5;241m256\u001b[39m, \u001b[38;5;241m4\u001b[39m)\u001b[38;5;241m.\u001b[39mto(device)\n\u001b[1;32m----> 8\u001b[0m \u001b[43mmodel\u001b[49m\u001b[38;5;241;43m.\u001b[39;49m\u001b[43mload_state_dict\u001b[49m\u001b[43m(\u001b[49m\u001b[43mtorch\u001b[49m\u001b[38;5;241;43m.\u001b[39;49m\u001b[43mload\u001b[49m\u001b[43m(\u001b[49m\u001b[38;5;124;43m'\u001b[39;49m\u001b[38;5;124;43mbackup_trained_models\u001b[39;49m\u001b[38;5;124;43m\\\u001b[39;49m\u001b[38;5;124;43mmodel_3.pth\u001b[39;49m\u001b[38;5;124;43m'\u001b[39;49m\u001b[43m)\u001b[49m\u001b[43m)\u001b[49m\n\u001b[0;32m      9\u001b[0m model\u001b[38;5;241m.\u001b[39meval()\n\u001b[0;32m     11\u001b[0m \u001b[38;5;66;03m# Create an instance of the Game class\u001b[39;00m\n\u001b[0;32m     12\u001b[0m \u001b[38;5;66;03m#list of actions\u001b[39;00m\n",
      "File \u001b[1;32mc:\\Users\\sudde\\miniconda3\\envs\\rait_env\\lib\\site-packages\\torch\\nn\\modules\\module.py:2153\u001b[0m, in \u001b[0;36mModule.load_state_dict\u001b[1;34m(self, state_dict, strict, assign)\u001b[0m\n\u001b[0;32m   2148\u001b[0m         error_msgs\u001b[38;5;241m.\u001b[39minsert(\n\u001b[0;32m   2149\u001b[0m             \u001b[38;5;241m0\u001b[39m, \u001b[38;5;124m'\u001b[39m\u001b[38;5;124mMissing key(s) in state_dict: \u001b[39m\u001b[38;5;132;01m{}\u001b[39;00m\u001b[38;5;124m. \u001b[39m\u001b[38;5;124m'\u001b[39m\u001b[38;5;241m.\u001b[39mformat(\n\u001b[0;32m   2150\u001b[0m                 \u001b[38;5;124m'\u001b[39m\u001b[38;5;124m, \u001b[39m\u001b[38;5;124m'\u001b[39m\u001b[38;5;241m.\u001b[39mjoin(\u001b[38;5;124mf\u001b[39m\u001b[38;5;124m'\u001b[39m\u001b[38;5;124m\"\u001b[39m\u001b[38;5;132;01m{\u001b[39;00mk\u001b[38;5;132;01m}\u001b[39;00m\u001b[38;5;124m\"\u001b[39m\u001b[38;5;124m'\u001b[39m \u001b[38;5;28;01mfor\u001b[39;00m k \u001b[38;5;129;01min\u001b[39;00m missing_keys)))\n\u001b[0;32m   2152\u001b[0m \u001b[38;5;28;01mif\u001b[39;00m \u001b[38;5;28mlen\u001b[39m(error_msgs) \u001b[38;5;241m>\u001b[39m \u001b[38;5;241m0\u001b[39m:\n\u001b[1;32m-> 2153\u001b[0m     \u001b[38;5;28;01mraise\u001b[39;00m \u001b[38;5;167;01mRuntimeError\u001b[39;00m(\u001b[38;5;124m'\u001b[39m\u001b[38;5;124mError(s) in loading state_dict for \u001b[39m\u001b[38;5;132;01m{}\u001b[39;00m\u001b[38;5;124m:\u001b[39m\u001b[38;5;130;01m\\n\u001b[39;00m\u001b[38;5;130;01m\\t\u001b[39;00m\u001b[38;5;132;01m{}\u001b[39;00m\u001b[38;5;124m'\u001b[39m\u001b[38;5;241m.\u001b[39mformat(\n\u001b[0;32m   2154\u001b[0m                        \u001b[38;5;28mself\u001b[39m\u001b[38;5;241m.\u001b[39m\u001b[38;5;18m__class__\u001b[39m\u001b[38;5;241m.\u001b[39m\u001b[38;5;18m__name__\u001b[39m, \u001b[38;5;124m\"\u001b[39m\u001b[38;5;130;01m\\n\u001b[39;00m\u001b[38;5;130;01m\\t\u001b[39;00m\u001b[38;5;124m\"\u001b[39m\u001b[38;5;241m.\u001b[39mjoin(error_msgs)))\n\u001b[0;32m   2155\u001b[0m \u001b[38;5;28;01mreturn\u001b[39;00m _IncompatibleKeys(missing_keys, unexpected_keys)\n",
      "\u001b[1;31mRuntimeError\u001b[0m: Error(s) in loading state_dict for NONSQUARE:\n\tMissing key(s) in state_dict: \"network.0.conv_vert.0.weight\", \"network.0.conv_vert.0.bias\", \"network.0.conv_horz.0.weight\", \"network.0.conv_horz.0.bias\". \n\tUnexpected key(s) in state_dict: \"network.0.conv_vert2x.0.weight\", \"network.0.conv_vert2x.0.bias\", \"network.0.conv_horz2x.0.weight\", \"network.0.conv_horz2x.0.bias\", \"network.0.conv_vert3.0.weight\", \"network.0.conv_vert3.0.bias\", \"network.0.conv_horz3.0.weight\", \"network.0.conv_horz3.0.bias\", \"network.0.conv_vert3x.0.weight\", \"network.0.conv_vert3x.0.bias\", \"network.0.conv_horz3x.0.weight\", \"network.0.conv_horz3x.0.bias\", \"network.0.conv_vert4.0.weight\", \"network.0.conv_vert4.0.bias\", \"network.0.conv_horz4.0.weight\", \"network.0.conv_horz4.0.bias\", \"network.0.conv_vert4x.0.weight\", \"network.0.conv_vert4x.0.bias\", \"network.0.conv_horz4x.0.weight\", \"network.0.conv_horz4x.0.bias\". \n\tsize mismatch for network.0.conv_vert2.0.weight: copying a param with shape torch.Size([128, 16, 1, 2]) from checkpoint, the shape in current model is torch.Size([512, 256, 1, 2]).\n\tsize mismatch for network.0.conv_vert2.0.bias: copying a param with shape torch.Size([128]) from checkpoint, the shape in current model is torch.Size([512]).\n\tsize mismatch for network.0.conv_horz2.0.weight: copying a param with shape torch.Size([128, 16, 2, 1]) from checkpoint, the shape in current model is torch.Size([512, 256, 2, 1]).\n\tsize mismatch for network.0.conv_horz2.0.bias: copying a param with shape torch.Size([128]) from checkpoint, the shape in current model is torch.Size([512]).\n\tsize mismatch for network.3.weight: copying a param with shape torch.Size([2048, 33792]) from checkpoint, the shape in current model is torch.Size([2048, 17408])."
     ]
    }
   ],
   "source": [
    "\n",
    "device = torch.device(\"cuda\" if torch.cuda.is_available() else \"cpu\")\n",
    "\n",
    "input_size = 16  # Assuming the input size is 16 for the 4x4 grid of the game\n",
    "output_size = 4  # Assuming there are 4 possible actions (up, down, left, right)\n",
    "\n",
    "model = NONSQUARE(2048, 256, 4).to(device)\n",
    "\n",
    "model.load_state_dict(torch.load('backup_trained_models\\model_x.pth'))\n",
    "model.eval()\n",
    "\n",
    "# Create an instance of the Game class\n",
    "#list of actions\n",
    "action_dict = {0:'U', 1:'R', 2:'D', 3:'L'}\n",
    "\n",
    "# game.board = np.array(custom_board)\n",
    "iterations = 100\n",
    "max_tiles = np.zeros([iterations])\n",
    "\n",
    "game = Game(np.random.randint(1, 1000), 4, 'hs')\n",
    "for epoch in range(iterations):\n",
    "    game.reset()\n",
    "    # game.display()\n",
    "    done = False\n",
    "    invalid_actions = []\n",
    "\n",
    "    while not done:\n",
    "        # Get the state from the model\n",
    "        state = encode_state(game.get_flat_board()).flatten()\n",
    "        state = torch.tensor(state, dtype=torch.float32, device=device)\n",
    "\n",
    "        # Get the action from the model\n",
    "        with torch.no_grad():\n",
    "                actions = model(state.view(1,16,4,4))\n",
    "                for invalid in invalid_actions:\n",
    "                    actions[0, invalid] = -torch.inf\n",
    "                action = actions.argmax().item()\n",
    "\n",
    "        (reward, done, updated, invalid_actions, invalid_moves_made) = game.swipe(action_dict[action])\n",
    "        \n",
    "    # game.display()\n",
    "    \n",
    "    max_tiles[epoch] = np.max(game.board)"
   ]
  },
  {
   "cell_type": "code",
   "execution_count": null,
   "metadata": {},
   "outputs": [
    {
     "data": {
      "image/png": "[encoded data removed]",
      "text/plain": [
       "<Figure size 640x480 with 1 Axes>"
      ]
     },
     "metadata": {},
     "output_type": "display_data"
    }
   ],
   "source": [
    "import matplotlib.pyplot as plt\n",
    "\n",
    "# Count the frequency of each max_tile value\n",
    "max_tile_counts = np.bincount(max_tiles.astype(int))\n",
    "max_tile_counts = max_tile_counts[max_tile_counts>0]\n",
    "\n",
    "unique_max_tiles = np.unique(max_tiles)\n",
    "# Create a bar chart\n",
    "plt.bar(np.arange(len(unique_max_tiles)), max_tile_counts)\n",
    "plt.xticks(np.arange(len(unique_max_tiles)), unique_max_tiles)\n",
    "\n",
    "# Set the y-axis label\n",
    "plt.ylabel('Frequency')\n",
    "\n",
    "# Set the title\n",
    "plt.title('Frequency of Max Tile')\n",
    "\n",
    "# Show the plot\n",
    "plt.show()\n",
    "\n"
   ]
  }
 ],
 "metadata": {
  "kernelspec": {
   "display_name": "DL_2048",
   "language": "python",
   "name": "python3"
  },
  "language_info": {
   "codemirror_mode": {
    "name": "ipython",
    "version": 3
   },
   "file_extension": ".py",
   "mimetype": "text/x-python",
   "name": "python",
   "nbconvert_exporter": "python",
   "pygments_lexer": "ipython3",
   "version": "3.10.6"
  }
 },
 "nbformat": 4,
 "nbformat_minor": 2
}
