{
 "cells": [
  {
   "cell_type": "code",
   "execution_count": 21,
   "metadata": {},
   "outputs": [],
   "source": [
    "import torch\n",
    "import torch.nn as nn\n",
    "import torch.optim as optim\n",
    "import numpy as np\n",
    "import math\n",
    "import random\n",
    "import matplotlib.pyplot as plt\n",
    "from collections import namedtuple, deque\n",
    "from src.Runner2048 import Game\n",
    "from model_class import DQN\n"
   ]
  },
  {
   "cell_type": "code",
   "execution_count": 22,
   "metadata": {},
   "outputs": [],
   "source": [
    "\n",
    "# This file will be used to run the agent on the 2048 game\n",
    "# The agent will be using the trained model to play the game\n",
    "\n",
    "\n",
    "\n",
    "class ConvBlock(nn.Module):\n",
    "    def __init__(self, in_channels, hidden_channels, out_channels):\n",
    "        super(ConvBlock, self).__init__()\n",
    "        self.conv_vert = nn.Sequential(\n",
    "            nn.Conv2d(in_channels, hidden_channels, kernel_size=(1,2), stride=1),\n",
    "            nn.ReLU()\n",
    "            )\n",
    "        self.conv_horz = nn.Sequential(\n",
    "            nn.Conv2d(in_channels, hidden_channels, kernel_size=(2,1), stride=1),\n",
    "            nn.ReLU()\n",
    "            )\n",
    "        self.conv_vert2 = nn.Sequential(\n",
    "            nn.Conv2d(hidden_channels, out_channels, kernel_size=(1,2), stride=1),\n",
    "            nn.Flatten(),\n",
    "            nn.ReLU()\n",
    "            )\n",
    "        self.conv_horz2 = nn.Sequential(\n",
    "            nn.Conv2d(hidden_channels, out_channels, kernel_size=(2,1), stride=1),\n",
    "            nn.Flatten(),\n",
    "            nn.ReLU()\n",
    "            )\n",
    "    \n",
    "    def forward(self, x):\n",
    "        x_vert = self.conv_vert(x)\n",
    "        x_horz = self.conv_horz(x)\n",
    "        x_vert2vert = self.conv_vert2(x_vert)\n",
    "        x_vert2horz = self.conv_horz2(x_vert)\n",
    "        x_horz2vert = self.conv_vert2(x_horz)\n",
    "        x_horz2horz = self.conv_horz2(x_horz)\n",
    "        return torch.cat([x_vert2vert, x_vert2horz, x_horz2vert, x_horz2horz], dim=1)\n",
    "\n",
    "class NONSQUARE(nn.Module): # \n",
    "    def __init__(self, HIDDEN_LAYER_1, HIDDEN_LAYER_2, OUTPUT_LAYER):\n",
    "        super(NONSQUARE, self).__init__()\n",
    "        self.network = nn.Sequential(\n",
    "            ConvBlock(16, 256, 512),\n",
    "            nn.ReLU(),\n",
    "            nn.Flatten(),   # Unnecessary?\n",
    "            nn.Linear(17408, HIDDEN_LAYER_1),\n",
    "            nn.ReLU(),\n",
    "            nn.Linear(HIDDEN_LAYER_1, HIDDEN_LAYER_2),\n",
    "            nn.ReLU(),\n",
    "            nn.Linear(HIDDEN_LAYER_2, OUTPUT_LAYER)\n",
    "            )\n",
    "        \n",
    "    def forward(self, x):\n",
    "        return self.network(x)"
   ]
  },
  {
   "cell_type": "code",
   "execution_count": 23,
   "metadata": {},
   "outputs": [],
   "source": [
    "def encode_state(board):\n",
    "  board_flat = torch.LongTensor(board)\n",
    "  board_flat = nn.functional.one_hot(board_flat, num_classes=16).float().flatten()\n",
    "  board_flat = board_flat.reshape(1, 4, 4, 16).permute(0, 3, 1, 2)\n",
    "  return board_flat"
   ]
  },
  {
   "cell_type": "code",
   "execution_count": 24,
   "metadata": {},
   "outputs": [
    {
     "name": "stderr",
     "output_type": "stream",
     "text": [
      "C:\\Users\\Ash\\AppData\\Local\\Temp\\ipykernel_11684\\2565519279.py:29: UserWarning: To copy construct from a tensor, it is recommended to use sourceTensor.clone().detach() or sourceTensor.clone().detach().requires_grad_(True), rather than torch.tensor(sourceTensor).\n",
      "  state = torch.tensor(state, dtype=torch.float32, device=device)\n"
     ]
    }
   ],
   "source": [
    "\n",
    "device = torch.device(\"cuda\" if torch.cuda.is_available() else \"cpu\")\n",
    "\n",
    "input_size = 16  # Assuming the input size is 16 for the 4x4 grid of the game\n",
    "output_size = 4  # Assuming there are 4 possible actions (up, down, left, right)\n",
    "\n",
    "model = NONSQUARE(2048, 256, 4).to(device)\n",
    "\n",
    "model.load_state_dict(torch.load('C:\\\\Users\\\\Ash\\\\OneDrive\\\\Documents\\\\School\\\\GeorgiaTech\\\\CS7643_DeepLearning\\\\Project\\\\2048_AI\\\\trained_models\\\\hs_corner_updated_normOHE_policy_policy_weights_episode_1600.pth'))\n",
    "model.eval()\n",
    "\n",
    "# Create an instance of the Game class\n",
    "#list of actions\n",
    "action_dict = {0:'U', 1:'R', 2:'D', 3:'L'}\n",
    "\n",
    "# game.board = np.array(custom_board)\n",
    "iterations = 100\n",
    "max_tiles = np.zeros([iterations])\n",
    "\n",
    "game = Game(np.random.randint(1, 1000), 4, 'hs')\n",
    "for epoch in range(iterations):\n",
    "    game.reset()\n",
    "    # game.display()\n",
    "    done = False\n",
    "    invalid_actions = []\n",
    "\n",
    "    while not done:\n",
    "        # Get the state from the model\n",
    "        state = encode_state(game.get_flat_board()).flatten()\n",
    "        state = torch.tensor(state, dtype=torch.float32, device=device)\n",
    "\n",
    "        # Get the action from the model\n",
    "        with torch.no_grad():\n",
    "                actions = model(state.view(1,16,4,4))\n",
    "                for invalid in invalid_actions:\n",
    "                    actions[0, invalid] = -torch.inf\n",
    "                action = actions.argmax().item()\n",
    "\n",
    "        (reward, done, updated, invalid_actions, invalid_moves_made) = game.swipe(action_dict[action])\n",
    "        \n",
    "    # game.display()\n",
    "    \n",
    "    max_tiles[epoch] = np.max(game.board)"
   ]
  },
  {
   "cell_type": "code",
   "execution_count": 25,
   "metadata": {},
   "outputs": [
    {
     "data": {
      "image/png": "[encoded data removed]",
      "text/plain": [
       "<Figure size 640x480 with 1 Axes>"
      ]
     },
     "metadata": {},
     "output_type": "display_data"
    }
   ],
   "source": [
    "import matplotlib.pyplot as plt\n",
    "\n",
    "# Count the frequency of each max_tile value\n",
    "max_tile_counts = np.bincount(max_tiles.astype(int))\n",
    "max_tile_counts = max_tile_counts[max_tile_counts>0]\n",
    "\n",
    "unique_max_tiles = np.unique(max_tiles)\n",
    "# Create a bar chart\n",
    "plt.bar(np.arange(len(unique_max_tiles)), max_tile_counts)\n",
    "plt.xticks(np.arange(len(unique_max_tiles)), unique_max_tiles)\n",
    "\n",
    "# Set the y-axis label\n",
    "plt.ylabel('Frequency')\n",
    "\n",
    "# Set the title\n",
    "plt.title('Frequency of Max Tile')\n",
    "\n",
    "# Show the plot\n",
    "plt.show()\n",
    "\n"
   ]
  }
 ],
 "metadata": {
  "kernelspec": {
   "display_name": "DL_2048",
   "language": "python",
   "name": "python3"
  },
  "language_info": {
   "codemirror_mode": {
    "name": "ipython",
    "version": 3
   },
   "file_extension": ".py",
   "mimetype": "text/x-python",
   "name": "python",
   "nbconvert_exporter": "python",
   "pygments_lexer": "ipython3",
   "version": "3.12.2"
  }
 },
 "nbformat": 4,
 "nbformat_minor": 2
}
